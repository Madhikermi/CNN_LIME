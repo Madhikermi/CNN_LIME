{
 "cells": [
  {
   "cell_type": "markdown",
   "metadata": {},
   "source": [
    "\n",
    "# Red Lesions Image Labeling from Set 1 -> B (From Masked Image)"
   ]
  },
  {
   "cell_type": "code",
   "execution_count": null,
   "metadata": {},
   "outputs": [],
   "source": [
    "\n",
    "import numpy as np\n",
    "import os \n",
    "import cv2\n",
    "\n",
    "def generate_label(x):\n",
    "    if(np.sum(x) > 0):\n",
    "        return 1\n",
    "    else:\n",
    "        return 0  \n",
    "\n",
    "path =\"/Users/madhikm1/Desktop/Dataset_En/Set1/A\"\n",
    "\n",
    "files = []\n",
    "imgData = []\n",
    "fNames =[]\n",
    "labels = []\n",
    "# r=root, d=directories, f = files\n",
    "for r, d, f in os.walk(path):\n",
    "    for file in f:\n",
    "        files.append(os.path.join(r, file))\n",
    "\n",
    "for f in files:\n",
    "    frame = cv2.imread(f,1)\n",
    "    imgData.append(cv2.resize(frame,(320,320)))\n",
    "    parts = f.split(\"/\")\n",
    "    fName = parts[len(parts)-1]\n",
    "    label = generate_label(frame)\n",
    "    fNames.append(fName)\n",
    "    labels.append(label)"
   ]
  },
  {
   "cell_type": "code",
   "execution_count": 2,
   "metadata": {},
   "outputs": [],
   "source": [
    "#for part in fNames:\n",
    "#    print(part)\n",
    "\n",
    "#for part in labels:\n",
    "#    print(part)\n",
    "    \n",
    "#for part in imgData:\n",
    "#    print(part.shape)"
   ]
  },
  {
   "cell_type": "markdown",
   "metadata": {},
   "source": [
    "# Preparing Training Data"
   ]
  },
  {
   "cell_type": "code",
   "execution_count": 31,
   "metadata": {},
   "outputs": [],
   "source": [
    "# Preparing Training Data\n",
    "training_data = []\n",
    "for i in range (0 , len(imgData)):\n",
    "    training_data.append([imgData[i],labels[i]])\n",
    "    \n",
    "\n"
   ]
  },
  {
   "cell_type": "markdown",
   "metadata": {},
   "source": [
    "# Suffle Data "
   ]
  },
  {
   "cell_type": "code",
   "execution_count": 32,
   "metadata": {},
   "outputs": [],
   "source": [
    "# Suffle Data \n",
    "import random\n",
    "random.shuffle(training_data)\n",
    "X = []\n",
    "Y = []\n",
    "for features_X,label_Y in training_data:\n",
    "    X.append(features_X)\n",
    "    Y.append(label_Y)\n",
    "X = np.array(X).reshape(-1,320,320,3)"
   ]
  },
  {
   "cell_type": "markdown",
   "metadata": {},
   "source": [
    "# Test for the image No need to Run"
   ]
  },
  {
   "cell_type": "code",
   "execution_count": 93,
   "metadata": {
    "scrolled": true
   },
   "outputs": [
    {
     "name": "stdout",
     "output_type": "stream",
     "text": [
      "1\n"
     ]
    },
    {
     "data": {
      "image/png": "[encoded data removed]",
      "text/plain": [
       "<Figure size 432x288 with 1 Axes>"
      ]
     },
     "metadata": {
      "needs_background": "light"
     },
     "output_type": "display_data"
    }
   ],
   "source": [
    "# Test for the image No need to Run\n",
    "import numpy as np\n",
    "%matplotlib inline\n",
    "import matplotlib.pyplot as plt\n",
    "plt.imshow(X[1])\n",
    "print(training_data[1][1])"
   ]
  },
  {
   "cell_type": "markdown",
   "metadata": {},
   "source": [
    "# Model Building"
   ]
  },
  {
   "cell_type": "code",
   "execution_count": 34,
   "metadata": {},
   "outputs": [
    {
     "name": "stdout",
     "output_type": "stream",
     "text": [
      "WARNING:tensorflow:From /Users/madhikm1/anaconda3/lib/python2.7/site-packages/tensorflow/python/ops/resource_variable_ops.py:435: colocate_with (from tensorflow.python.framework.ops) is deprecated and will be removed in a future version.\n",
      "Instructions for updating:\n",
      "Colocations handled automatically by placer.\n",
      "Train on 2965 samples, validate on 330 samples\n",
      "WARNING:tensorflow:From /Users/madhikm1/anaconda3/lib/python2.7/site-packages/tensorflow/python/ops/math_ops.py:3066: to_int32 (from tensorflow.python.ops.math_ops) is deprecated and will be removed in a future version.\n",
      "Instructions for updating:\n",
      "Use tf.cast instead.\n",
      "Epoch 1/3\n",
      "2965/2965 [==============================] - 2954s 996ms/sample - loss: 0.2144 - acc: 0.9727 - val_loss: 0.1465 - val_acc: 0.9909\n",
      "Epoch 2/3\n",
      "2965/2965 [==============================] - 3036s 1s/sample - loss: 0.1740 - acc: 0.9892 - val_loss: 0.1465 - val_acc: 0.9909\n",
      "Epoch 3/3\n",
      "2965/2965 [==============================] - 3038s 1s/sample - loss: 0.1740 - acc: 0.9892 - val_loss: 0.1465 - val_acc: 0.9909\n"
     ]
    },
    {
     "data": {
      "text/plain": [
       "<tensorflow.python.keras.callbacks.History at 0xbb8400fd0>"
      ]
     },
     "execution_count": 34,
     "metadata": {},
     "output_type": "execute_result"
    }
   ],
   "source": [
    "# Model Training \n",
    "\n",
    "import tensorflow as tf\n",
    "from tensorflow.keras.models import Sequential\n",
    "from tensorflow.keras.layers import Dense,Dropout,Activation,Flatten,Conv2D,MaxPooling2D\n",
    "\n",
    "\n",
    "model = Sequential()\n",
    "\n",
    "model.add(Conv2D(64,(3,3),input_shape = X.shape[1:]) )\n",
    "model.add(Activation(\"relu\"))\n",
    "model.add(MaxPooling2D(pool_size = (2,2)))\n",
    "\n",
    "model.add(Conv2D(64,(3,3),input_shape = X.shape[1:]) )\n",
    "model.add(Activation(\"relu\"))\n",
    "model.add(MaxPooling2D(pool_size = (2,2)))\n",
    "\n",
    "model.add(Flatten())\n",
    "model.add(Dense(64))\n",
    "\n",
    "model.add(Dense(1))\n",
    "model.add(Activation(\"sigmoid\"))\n",
    "\n",
    "model.compile(loss=\"binary_crossentropy\",\n",
    "             optimizer=\"adam\",\n",
    "             metrics=['accuracy'])\n",
    "\n",
    "model.fit(X,Y,batch_size=32, epochs=3, validation_split=0.1)"
   ]
  },
  {
   "cell_type": "markdown",
   "metadata": {},
   "source": [
    "# Save Model to disk\n",
    "## Load the saved model for reuse \n",
    "### No training is needed for reuse of model"
   ]
  },
  {
   "cell_type": "code",
   "execution_count": null,
   "metadata": {},
   "outputs": [],
   "source": [
    "# Save Model\n",
    "\n",
    "from keras.models import load_model  \n",
    "model.save('my_model.h5') \n",
    "\n",
    "# Load Model \n",
    "# Uncomment Below code to load model for later Purpose. No need to Train\n",
    "# ----------------------------------------------------------------------\n",
    "\n",
    "\n",
    "# model = load_model('my_model.h5')"
   ]
  },
  {
   "cell_type": "markdown",
   "metadata": {},
   "source": [
    "# Test Image to check bloody or Healthy Image"
   ]
  },
  {
   "cell_type": "code",
   "execution_count": 109,
   "metadata": {},
   "outputs": [],
   "source": [
    "# Test Image to check bloody or Healthy Image\n",
    "\n",
    "test_file = \"/Users/madhikm1/Desktop/Dataset_En/Set1/B/Set1_668.png\"\n",
    "test_frame = cv2.imread(test_file,1)\n",
    "test_img = cv2.resize(test_frame,(320,320))\n",
    "test_img_final = np.array(test_img).reshape(-1,320,320,3)\n",
    "prediction = model.predict([test_img_final])\n",
    "\n",
    "\n",
    "    \n",
    "\n"
   ]
  },
  {
   "cell_type": "code",
   "execution_count": 110,
   "metadata": {},
   "outputs": [
    {
     "name": "stdout",
     "output_type": "stream",
     "text": [
      "0\n"
     ]
    },
    {
     "data": {
      "text/plain": [
       "<matplotlib.image.AxesImage at 0xc219524d0>"
      ]
     },
     "execution_count": 110,
     "metadata": {},
     "output_type": "execute_result"
    },
    {
     "data": {
      "image/png": "[encoded data removed]",
      "text/plain": [
       "<Figure size 432x288 with 1 Axes>"
      ]
     },
     "metadata": {
      "needs_background": "light"
     },
     "output_type": "display_data"
    }
   ],
   "source": [
    "# Print for Predicted Value (1 being Bloody and 0 Being Healthy) \n",
    "import numpy as np\n",
    "%matplotlib inline\n",
    "import matplotlib.pyplot as plt\n",
    "\n",
    "\n",
    "print(int(prediction[0][0]))\n",
    "plt.imshow(test_img_final[0])"
   ]
  },
  {
   "cell_type": "markdown",
   "metadata": {},
   "source": [
    "# Explainable AI using Lime"
   ]
  },
  {
   "cell_type": "code",
   "execution_count": 111,
   "metadata": {},
   "outputs": [],
   "source": [
    "import lime"
   ]
  },
  {
   "cell_type": "code",
   "execution_count": null,
   "metadata": {},
   "outputs": [],
   "source": []
  }
 ],
 "metadata": {
  "kernelspec": {
   "display_name": "Python 2",
   "language": "python",
   "name": "python2"
  },
  "language_info": {
   "codemirror_mode": {
    "name": "ipython",
    "version": 2
   },
   "file_extension": ".py",
   "mimetype": "text/x-python",
   "name": "python",
   "nbconvert_exporter": "python",
   "pygments_lexer": "ipython2",
   "version": "2.7.16"
  },
  "widgets": {
   "state": {},
   "version": "1.1.2"
  }
 },
 "nbformat": 4,
 "nbformat_minor": 2
}
