{
 "cells": [
  {
   "cell_type": "code",
   "execution_count": null,
   "metadata": {},
   "outputs": [],
   "source": [
    "import matplotlib.pyplot as plt\n",
    "import numpy as np\n",
    "import os\n",
    "import pandas as pd\n",
    "import cv2\n"
   ]
  },
  {
   "cell_type": "code",
   "execution_count": null,
   "metadata": {},
   "outputs": [],
   "source": [
    "frame = cv2.imread('/Users/madhikm1/Downloads/Set1_3273.bmp',-1)\n",
    "frame1 = cv2.imread('/Users/madhikm1/Downloads/Set1_3273.bmp',0)\n",
    "hsv = cv2.cvtColor(frame,cv2.COLOR_BGR2HSV)\n",
    "\n",
    "#hsv = cv2.imread('/Users/madhikm1/Dataset_En/Set1/A/Set1_3272.bmp',cv2.COLOR_BGR2HSV)\n",
    "#cv2.imshow('A',frame)\n",
    "#cv2.waitKey(0) \n",
    "#cv2.imshow('B',hsv)\n",
    "#cv2.waitKey(0) \n",
    "#cv2.destroyWindow('1374')\n",
    "#Colouring_pencils.jpg\n",
    "#lower_red = np.array([150,10,50])\n",
    "#upper_red = np.array([180,255,150])\n",
    "\n",
    "\n",
    "\n",
    "#(160, 100, 100), cv::Scalar(179, 255, 255\n",
    "\n",
    "\n",
    "lower_red = np.array([0,100,100])\n",
    "upper_red = np.array([10,255,255])\n",
    "\n",
    "mask = cv2.inRange(hsv,lower_red,upper_red)\n",
    "res =cv2.bitwise_and(frame,frame,mask = mask)\n",
    "\n",
    "blacknwhite = cv2.cvtColor(res,cv2.COLOR_BGR2GRAY)\n",
    "ret,blacknwhite1 = cv2.threshold(blacknwhite,0,255,cv2.THRESH_BINARY)\n",
    "cv2.imshow('frame',frame)\n",
    "cv2.imshow('frame1',frame1)\n",
    "cv2.imshow('res',res)\n",
    "cv2.imshow('blacknwhite',blacknwhite1)\n",
    "\n",
    "cv2.waitKey(1)"
   ]
  },
  {
   "cell_type": "code",
   "execution_count": null,
   "metadata": {},
   "outputs": [],
   "source": []
  },
  {
   "cell_type": "code",
   "execution_count": null,
   "metadata": {},
   "outputs": [],
   "source": []
  },
  {
   "cell_type": "code",
   "execution_count": null,
   "metadata": {},
   "outputs": [],
   "source": []
  }
 ],
 "metadata": {
  "kernelspec": {
   "display_name": "Python 2",
   "language": "python",
   "name": "python2"
  },
  "language_info": {
   "codemirror_mode": {
    "name": "ipython",
    "version": 2
   },
   "file_extension": ".py",
   "mimetype": "text/x-python",
   "name": "python",
   "nbconvert_exporter": "python",
   "pygments_lexer": "ipython2",
   "version": "2.7.16"
  },
  "widgets": {
   "state": {},
   "version": "1.1.2"
  }
 },
 "nbformat": 4,
 "nbformat_minor": 2
}
